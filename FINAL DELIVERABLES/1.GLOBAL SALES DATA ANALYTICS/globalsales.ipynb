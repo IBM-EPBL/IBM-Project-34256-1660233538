{
  "metadata": {
    "language_info": {
      "codemirror_mode": {
        "name": "python",
        "version": 3
      },
      "file_extension": ".py",
      "mimetype": "text/x-python",
      "name": "python",
      "nbconvert_exporter": "python",
      "pygments_lexer": "ipython3",
      "version": "3.8"
    },
    "kernelspec": {
      "name": "python",
      "display_name": "Python (Pyodide)",
      "language": "python"
    }
  },
  "nbformat_minor": 4,
  "nbformat": 4,
  "cells": [
    {
      "cell_type": "code",
      "source": "import pandas as pd\nimport matplotlib.pyplot as plt\nimport seaborn as sns\nfrom datetime import datetime",
      "metadata": {},
      "execution_count": null,
      "outputs": []
    },
    {
      "cell_type": "code",
      "source": "df = pd.read_excel('superstore_sales.xlsx')\ndf.head() ",
      "metadata": {},
      "execution_count": null,
      "outputs": []
    },
    {
      "cell_type": "code",
      "source": "df.shape",
      "metadata": {},
      "execution_count": null,
      "outputs": []
    },
    {
      "cell_type": "code",
      "source": "df.isnull().sum()",
      "metadata": {},
      "execution_count": null,
      "outputs": []
    },
    {
      "cell_type": "code",
      "source": "boughts = df.groupby('product_name').agg({'quantity': 'sum'}).sort_values('quantity',ascending=False)[:10]\nboughts",
      "metadata": {},
      "execution_count": null,
      "outputs": []
    },
    {
      "cell_type": "code",
      "source": "sns.barplot(x='product_name',y='quantity',data=boughts.reset_index())\nplt.xticks(rotation = 'vertical')",
      "metadata": {},
      "execution_count": null,
      "outputs": []
    },
    {
      "cell_type": "code",
      "source": "productSales = pd.DataFrame(df.groupby('product_name').sum()['sales'])\nproductSales.sort_values(by=['sales'], inplace=True, ascending=False)\nproductSales.head(10)\n",
      "metadata": {},
      "execution_count": null,
      "outputs": []
    },
    {
      "cell_type": "code",
      "source": "profitable_products = pd.DataFrame(df.groupby(['product_name']).sum()['profit'])\nprofitable_products.sort_values(by=['profit'], inplace = True, ascending = False)\nprofitable_products.head(10)",
      "metadata": {},
      "execution_count": null,
      "outputs": []
    },
    {
      "cell_type": "code",
      "source": "sns.barplot(x='product_name',y='profit',data=profitable_products.head(10).reset_index())\nplt.xticks(rotation = 'vertical')",
      "metadata": {},
      "execution_count": null,
      "outputs": []
    },
    {
      "cell_type": "code",
      "source": "df.groupby(['category','sales']).sum()",
      "metadata": {},
      "execution_count": null,
      "outputs": []
    },
    {
      "cell_type": "code",
      "source": "profitable_category = pd.DataFrame(df.groupby(['category']).sum()['profit'])\nprofitable_category.sort_values(by=['profit'], inplace = True, ascending = False)\nprofitable_category",
      "metadata": {},
      "execution_count": null,
      "outputs": []
    },
    {
      "cell_type": "code",
      "source": "plt.figure(figsize=(17, 5))\nplt.bar(df['category'],df['sales'],color = 'b')\nplt.xticks(size=8)\nplt.show()",
      "metadata": {},
      "execution_count": null,
      "outputs": []
    },
    {
      "cell_type": "code",
      "source": "df.groupby(['category','sub_category']).sum()",
      "metadata": {},
      "execution_count": null,
      "outputs": []
    },
    {
      "cell_type": "code",
      "source": "profitable_segment = pd.DataFrame(df.groupby(['segment']).sum()['profit'])\nprofitable_segment.sort_values(by=['profit'], inplace = True, ascending = False)\nprofitable_segment",
      "metadata": {},
      "execution_count": null,
      "outputs": []
    },
    {
      "cell_type": "code",
      "source": "profitable_segment = pd.DataFrame(df.groupby(['segment']).sum()['profit'])\nprofitable_segment.sort_values(by=['profit'], inplace = True, ascending = False)\nprofitable_segment",
      "metadata": {},
      "execution_count": null,
      "outputs": []
    },
    {
      "cell_type": "code",
      "source": "plt.figure(figsize=(14, 6))\nplt.bar(df['ship_mode'],df['sales'],color = 'b')\nplt.xticks(rotation='vertical', size=8)\nplt.show()",
      "metadata": {},
      "execution_count": null,
      "outputs": []
    },
    {
      "cell_type": "code",
      "source": "countries = pd.DataFrame(df.groupby('country').sum()['sales'])\ncountries.sort_values('sales',inplace=True, ascending=False)\ncountries.head(10)",
      "metadata": {},
      "execution_count": null,
      "outputs": []
    },
    {
      "cell_type": "code",
      "source": "ns.barplot(x='year',y='sales',data=date.reset_index())\nplt.xticks(rotation = 'vertical')",
      "metadata": {},
      "execution_count": null,
      "outputs": []
    }
  ]
}